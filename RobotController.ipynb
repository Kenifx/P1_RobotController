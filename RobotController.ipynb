{
 "cells": [
  {
   "cell_type": "code",
   "execution_count": 8,
   "metadata": {},
   "outputs": [
    {
     "name": "stdout",
     "output_type": "stream",
     "text": [
      "maze-id 1-1531231580\n",
      "[[0, 0, 0, 0, 0, 2, 3],\n",
      " [1, 2, 2, 2, 0, 2, 0],\n",
      " [2, 0, 0, 0, 0, 2, 0],\n",
      " [2, 2, 2, 2, 0, 0, 0]]\n"
     ]
    }
   ],
   "source": [
    "import helper\n",
    "env_data = helper.fetch_maze()\n"
   ]
  },
  {
   "cell_type": "code",
   "execution_count": 28,
   "metadata": {},
   "outputs": [
    {
     "name": "stdout",
     "output_type": "stream",
     "text": [
      "迷宫共有 4 行 7 列，第三行第六列的元素是 2\n"
     ]
    }
   ],
   "source": [
    "#TODO 1模拟环境的行数\n",
    "rows = len(env_data) \n",
    "\n",
    "#TODO 2模拟环境的列数\n",
    "columns = len(env_data[0]) \n",
    "\n",
    "#TODO 3取出模拟环境第三行第六列的元素\n",
    "row_3_col_6 = env_data[2][5] \n",
    "\n",
    "print(\"迷宫共有\", rows, \"行\", columns, \"列，第三行第六列的元素是\", row_3_col_6)\n"
   ]
  },
  {
   "cell_type": "code",
   "execution_count": 27,
   "metadata": {},
   "outputs": [
    {
     "name": "stdout",
     "output_type": "stream",
     "text": [
      "迷宫中，第一行共有 1 个障碍物，第三列共有 2 个障碍物。\n"
     ]
    }
   ],
   "source": [
    "#TODO 4计算模拟环境中，第一行的的障碍物个数。\n",
    "number_of_barriers_row1 = env_data[0].count(2)\n",
    "\n",
    "#TODO 5计算模拟环境中，第三列的的障碍物个数。\n",
    "def countBar(list):\n",
    "    count = 0\n",
    "    for i in range(len(list)):\n",
    "        if env_data[i][2] == 2:\n",
    "            count += 1\n",
    "    return count\n",
    "number_of_barriers_col3 = countBar(env_data)\n",
    "\n",
    "print(\"迷宫中，第一行共有\", number_of_barriers_row1, \"个障碍物，第三列共有\", number_of_barriers_col3, \"个障碍物。\")\n",
    " "
   ]
  },
  {
   "cell_type": "code",
   "execution_count": 71,
   "metadata": {},
   "outputs": [
    {
     "name": "stdout",
     "output_type": "stream",
     "text": [
      "[1, 0]\n"
     ]
    }
   ],
   "source": [
    "\n",
    "loc_map = {} #TODO 6按照上述要求创建字典\n",
    "loc_map['start'] = [1,0]\n",
    "loc_map['destination'] = [0,6]\n",
    "\n",
    "\n",
    "robot_current_loc = loc_map['start']#TODO 7保存机器人当前的位置\n",
    "print(robot_current_loc)"
   ]
  },
  {
   "cell_type": "code",
   "execution_count": 113,
   "metadata": {},
   "outputs": [
    {
     "name": "stdout",
     "output_type": "stream",
     "text": [
      "2\n",
      "No can't move - there is barrier\n"
     ]
    },
    {
     "data": {
      "text/plain": [
       "False"
      ]
     },
     "execution_count": 113,
     "metadata": {},
     "output_type": "execute_result"
    }
   ],
   "source": [
    "'''任务4：在下方代码中，实现名为 is_move_valid_special 的函数，它有两个输入，分别为机器人所在的位置坐标 loc，以及即将执行的动作 act，如 (1,1) 及 u。\n",
    "接着它的返回是一个布尔值，表明小车在 loc 位置下，是否可以执行动作 act。\n",
    "提示1：可以读取上方定义的 env_data 变量，来读取模拟环境的数据。\n",
    "提示2：在实现函数后，请删去下方的 pass 代码。\n",
    "提示3：我们需要处理边界的情况，即机器人走到了虚拟环境边界时，是不能够走出虚拟环境的。'''\n",
    "\n",
    "def is_move_valid_sepcial(loc, act):\n",
    "    \"\"\"\n",
    "    Judge wether the robot can take action act\n",
    "    at location loc.\n",
    "    \n",
    "    Keyword arguments:\n",
    "    loc -- tuple, robots current location\n",
    "    act -- string, robots meant action\n",
    "    \"\"\"\n",
    "    if act == \"u\": #now moves up\n",
    "        try:\n",
    "            if loc[0]-1 < 0:\n",
    "                print(\"out of top boundary\")\n",
    "                return False\n",
    "            elif env_data[loc[0]-1][loc[1]] == 0 or env_data[loc[0]-1][loc[1]] == 3:\n",
    "                print(env_data[loc[0]-1][loc[1]] )\n",
    "                print(\"can move\")\n",
    "                return True              \n",
    "            else:\n",
    "                print(env_data[loc[0]-1][loc[1]] )\n",
    "                print(\"No can't move - there is barrier\")\n",
    "                return False              \n",
    "        except:\n",
    "            print(\"No can't move - out of range\")\n",
    "            return False\n",
    "    elif act == \"d\": #now moves down\n",
    "        try:\n",
    "            if loc[0]+1 > len(env_data)-1: #used to mark bottom boundary\n",
    "                print(\"out of bottom boundary\")\n",
    "                return False\n",
    "            elif env_data[loc[0]+1][loc[1]] == 0 or env_data[loc[0]+1][loc[1]] == 3:\n",
    "                print(env_data[loc[0]+1][loc[1]] )\n",
    "                print(\"can move\")\n",
    "                return True              \n",
    "            else:\n",
    "                print(env_data[loc[0]+1][loc[1]] )\n",
    "                print(\"No can't move - there is barrier\")\n",
    "                return False              \n",
    "        except:\n",
    "            print(\"No can't move - out of range\")\n",
    "            return False\n",
    "    elif act == 'l': #moves left\n",
    "        try:\n",
    "            if loc[1]-1 < 0 : #used to mark left boundary\n",
    "                print(\"out of left boundary\")\n",
    "                return False\n",
    "            elif env_data[loc[0]][loc[1]-1] == 0 or env_data[loc[0]][loc[1]-1] == 3:\n",
    "                print(env_data[loc[0]][loc[1]-1] )\n",
    "                print(\"can move\")\n",
    "                return True              \n",
    "            else:\n",
    "                print(env_data[loc[0]][loc[1]-1]  )\n",
    "                print(\"No can't move - there is barrier\")\n",
    "                return False              \n",
    "        except:\n",
    "            print(\"No can't move - out of range\")\n",
    "            return False\n",
    "    elif act == 'r': #moves right\n",
    "        try:\n",
    "            if loc[1]+1 > len(env_data[0])+1: #used to mark right boundary\n",
    "                print(\"out of right boundary\")\n",
    "                return False\n",
    "            elif env_data[loc[0]][loc[1]+1] == 0 or env_data[loc[0]][loc[1]+1] == 3:\n",
    "                print(env_data[loc[0]][loc[1]+1] )\n",
    "                print(\"can move\")\n",
    "                return True              \n",
    "            else:\n",
    "                print(env_data[loc[0]][loc[1]+1]  )\n",
    "                print(\"No can't move - there is barrier\")\n",
    "                return False              \n",
    "        except:\n",
    "            print(\"No can't move - out of range error\")\n",
    "            return False\n",
    "            \n",
    "            \n",
    "    #TODO 8\n",
    "\n",
    "#is_move_valid_sepcial(loc_map['start'],\"d\")"
   ]
  },
  {
   "cell_type": "code",
   "execution_count": 101,
   "metadata": {},
   "outputs": [
    {
     "name": "stdout",
     "output_type": "stream",
     "text": [
      "7\n"
     ]
    }
   ],
   "source": [
    "''''**任务5：**在下方代码中，重新实现一个名为 `is_move_valid` 的函数，它有三个输入，分别为模拟环境的数据 `env_data`、\n",
    "机器人所在的位置坐标 `loc`、以及即将执行的动作 `act`。它的返回值与此前一样，是一个布尔值，表明小车在给定的虚拟环境中的 `loc` 位置下，\n",
    "是否可以执行动作 `act`。\n",
    "''''\n",
    "def is_move_valid(env_data, loc, act):\n",
    "    \n",
    "\n"
   ]
  },
  {
   "cell_type": "code",
   "execution_count": 1,
   "metadata": {},
   "outputs": [
    {
     "name": "stdout",
     "output_type": "stream",
     "text": [
      "u\n",
      "d\n",
      "l\n",
      "r\n"
     ]
    }
   ],
   "source": [
    " actions = [\"u\",\"d\",\"l\",\"r\"]\n",
    "\n",
    "for i in actions:\n",
    "    print(i)"
   ]
  },
  {
   "cell_type": "code",
   "execution_count": null,
   "metadata": {},
   "outputs": [],
   "source": []
  }
 ],
 "metadata": {
  "kernelspec": {
   "display_name": "Python 3",
   "language": "python",
   "name": "python3"
  },
  "language_info": {
   "codemirror_mode": {
    "name": "ipython",
    "version": 3
   },
   "file_extension": ".py",
   "mimetype": "text/x-python",
   "name": "python",
   "nbconvert_exporter": "python",
   "pygments_lexer": "ipython3",
   "version": "3.6.5"
  }
 },
 "nbformat": 4,
 "nbformat_minor": 2
}
